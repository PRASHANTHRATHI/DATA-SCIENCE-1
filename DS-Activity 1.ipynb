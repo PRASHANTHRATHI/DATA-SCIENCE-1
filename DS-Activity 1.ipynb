{
  "nbformat": 4,
  "nbformat_minor": 0,
  "metadata": {
    "colab": {
      "provenance": []
    },
    "kernelspec": {
      "name": "python3",
      "display_name": "Python 3"
    },
    "language_info": {
      "name": "python"
    }
  },
  "cells": [
    {
      "cell_type": "code",
      "execution_count": null,
      "metadata": {
        "id": "3HAVV0xi7BKg"
      },
      "outputs": [],
      "source": [
        "import numpy as np\n",
        "import pandas as pd"
      ]
    },
    {
      "cell_type": "code",
      "source": [
        "\n",
        "exam_data = {'name': ['Anastasia', 'Dima', 'Katherine', 'James', 'Emily', 'Michael', 'Matthew', 'Laura', 'Kevin', 'Jonas'],\n",
        "\n",
        "'score': [12.5, 9, 16.5, np.nan, 9, 20, 14.5, np.nan, 8, 19],\n",
        "\n",
        "'attempts': [1, 3, 4, 3, 5, 3, 6, 1, 7, 1] }\n",
        "\n",
        "\n",
        "\n"
      ],
      "metadata": {
        "id": "eEjsUivC7QKM"
      },
      "execution_count": null,
      "outputs": []
    },
    {
      "cell_type": "code",
      "source": [
        "df = pd.DataFrame(exam_data)"
      ],
      "metadata": {
        "id": "1_Ppw4_k8FfD"
      },
      "execution_count": null,
      "outputs": []
    },
    {
      "cell_type": "code",
      "source": [
        "data=df[['name','score']]"
      ],
      "metadata": {
        "id": "ylqrGnC38btx"
      },
      "execution_count": null,
      "outputs": []
    },
    {
      "cell_type": "code",
      "source": [
        "print(data)"
      ],
      "metadata": {
        "colab": {
          "base_uri": "https://localhost:8080/"
        },
        "id": "-GnjvNZw8hIL",
        "outputId": "85ed3c55-022b-4cab-e42e-894376947bdf"
      },
      "execution_count": null,
      "outputs": [
        {
          "output_type": "stream",
          "name": "stdout",
          "text": [
            "        name  score\n",
            "0  Anastasia   12.5\n",
            "1       Dima    9.0\n",
            "2  Katherine   16.5\n",
            "3      James    NaN\n",
            "4      Emily    9.0\n",
            "5    Michael   20.0\n",
            "6    Matthew   14.5\n",
            "7      Laura    NaN\n",
            "8      Kevin    8.0\n",
            "9      Jonas   19.0\n"
          ]
        }
      ]
    },
    {
      "cell_type": "code",
      "source": [
        "data=df[df['attempts']>3]"
      ],
      "metadata": {
        "id": "TdDuTrZY9GqT"
      },
      "execution_count": null,
      "outputs": []
    },
    {
      "cell_type": "code",
      "source": [
        "print(data)"
      ],
      "metadata": {
        "colab": {
          "base_uri": "https://localhost:8080/"
        },
        "id": "AJKGENVh9OGI",
        "outputId": "334ee3a5-eb34-4fff-8847-27d429977d31"
      },
      "execution_count": null,
      "outputs": [
        {
          "output_type": "stream",
          "name": "stdout",
          "text": [
            "        name  score  attempts\n",
            "2  Katherine   16.5         4\n",
            "4      Emily    9.0         5\n",
            "6    Matthew   14.5         6\n",
            "8      Kevin    8.0         7\n"
          ]
        }
      ]
    },
    {
      "cell_type": "code",
      "source": [
        "data = {'name': ['Alice', 'Bob', 'Charlie', 'Dave'],\n",
        "\n",
        "'age': [25, 35, 40, 28],\n",
        "\n",
        "'gender': ['F', 'M', 'M', 'M'],\n",
        "\n",
        "'salary': [50000, 70000, 60000, 80000]}\n"
      ],
      "metadata": {
        "id": "c3rYFzKm9R0p"
      },
      "execution_count": null,
      "outputs": []
    },
    {
      "cell_type": "code",
      "source": [
        "df = pd.DataFrame(data)"
      ],
      "metadata": {
        "id": "onS1-nQR9sJw"
      },
      "execution_count": null,
      "outputs": []
    },
    {
      "cell_type": "code",
      "source": [
        "print(data)"
      ],
      "metadata": {
        "colab": {
          "base_uri": "https://localhost:8080/"
        },
        "id": "0F0V2QA69vHB",
        "outputId": "3dc7047d-9b64-4389-b6b0-24f38b3c9d3a"
      },
      "execution_count": null,
      "outputs": [
        {
          "output_type": "stream",
          "name": "stdout",
          "text": [
            "{'name': ['Alice', 'Bob', 'Charlie', 'Dave'], 'age': [25, 35, 40, 28], 'gender': ['F', 'M', 'M', 'M'], 'salary': [50000, 70000, 60000, 80000]}\n"
          ]
        }
      ]
    },
    {
      "cell_type": "code",
      "source": [
        "data=df[df['age']>30]"
      ],
      "metadata": {
        "id": "0AKj_2pF9xxo"
      },
      "execution_count": null,
      "outputs": []
    },
    {
      "cell_type": "code",
      "source": [
        "print(data)"
      ],
      "metadata": {
        "colab": {
          "base_uri": "https://localhost:8080/"
        },
        "id": "zA3up7UP966F",
        "outputId": "5f76f156-181b-4d16-b49d-1327febdc658"
      },
      "execution_count": null,
      "outputs": [
        {
          "output_type": "stream",
          "name": "stdout",
          "text": [
            "      name  age gender  salary\n",
            "1      Bob   35      M   70000\n",
            "2  Charlie   40      M   60000\n"
          ]
        }
      ]
    },
    {
      "cell_type": "code",
      "source": [
        "data=df[df['name'].str.contains('e')]"
      ],
      "metadata": {
        "id": "42UIgCPD-CZM"
      },
      "execution_count": null,
      "outputs": []
    },
    {
      "cell_type": "code",
      "source": [
        "print(data)"
      ],
      "metadata": {
        "colab": {
          "base_uri": "https://localhost:8080/"
        },
        "id": "3wHIKH-G-sIy",
        "outputId": "ce29e92d-8139-4890-bdaf-dedfcc25cbd7"
      },
      "execution_count": null,
      "outputs": [
        {
          "output_type": "stream",
          "name": "stdout",
          "text": [
            "      name  age gender  salary\n",
            "0    Alice   25      F   50000\n",
            "2  Charlie   40      M   60000\n",
            "3     Dave   28      M   80000\n"
          ]
        }
      ]
    },
    {
      "cell_type": "code",
      "source": [
        "data=df[(df['gender']=='M') & (df['salary']>=65000)]"
      ],
      "metadata": {
        "id": "z8HjI_lx-y9-"
      },
      "execution_count": null,
      "outputs": []
    },
    {
      "cell_type": "code",
      "source": [
        "print(data)"
      ],
      "metadata": {
        "colab": {
          "base_uri": "https://localhost:8080/"
        },
        "id": "luqTedL0_QoW",
        "outputId": "411c43d2-22a7-40d9-a841-a5c4aaf69978"
      },
      "execution_count": null,
      "outputs": [
        {
          "output_type": "stream",
          "name": "stdout",
          "text": [
            "   name  age gender  salary\n",
            "1   Bob   35      M   70000\n",
            "3  Dave   28      M   80000\n"
          ]
        }
      ]
    },
    {
      "cell_type": "code",
      "source": [
        "data=df[['name','age']]"
      ],
      "metadata": {
        "id": "-Ip_QSKO_T5U"
      },
      "execution_count": null,
      "outputs": []
    },
    {
      "cell_type": "code",
      "source": [
        "print(data)"
      ],
      "metadata": {
        "colab": {
          "base_uri": "https://localhost:8080/"
        },
        "id": "0L6_4GqR_bBO",
        "outputId": "3ac82bc9-f2db-474b-f050-831dc8cd11b5"
      },
      "execution_count": null,
      "outputs": [
        {
          "output_type": "stream",
          "name": "stdout",
          "text": [
            "      name  age\n",
            "0    Alice   25\n",
            "1      Bob   35\n",
            "2  Charlie   40\n",
            "3     Dave   28\n"
          ]
        }
      ]
    }
  ]
}